{
 "cells": [
  {
   "cell_type": "code",
   "execution_count": 7,
   "metadata": {},
   "outputs": [],
   "source": [
    "# Single input, produce weighted output (weight is parameter)\n",
    "def neural_network(inputs, weights):\n",
    "    hidden = vect_mat_mul(inputs, weights[0])\n",
    "    pred = vect_mat_mul(hidden, weights[1])\n",
    "    return pred\n",
    "\n",
    "# Calculate a weighted sum given inputs a and weights b\n",
    "def weighted_sum(a, b):\n",
    "    assert(len(a) == len(b))\n",
    "\n",
    "    res = 0\n",
    "    for i in range(len(a)):\n",
    "        res += a[i] * b[i]\n",
    "    \n",
    "    return res\n",
    "\n",
    "# multiply an input vector by a weight matrix to produce a vector of outputs\n",
    "# e.g. M*N weight matrix times a N * 1 input vector yields M outputs\n",
    "def vect_mat_mul(vect, mat):\n",
    "    assert(len(vect) == len(mat[0]))\n",
    "    res = [ 0 for _ in range(len(mat)) ]\n",
    "\n",
    "    for i in range(len(mat)):\n",
    "        res[i] = weighted_sum(vect, mat[i])\n",
    "    \n",
    "    return res"
   ]
  },
  {
   "cell_type": "code",
   "execution_count": 9,
   "metadata": {},
   "outputs": [
    {
     "name": "stdout",
     "output_type": "stream",
     "text": [
      "[0.21350000000000002, 0.14500000000000002, 0.5065]\n"
     ]
    }
   ],
   "source": [
    "\n",
    "# matrix corresponding to weights of NN\n",
    "# each row of weights corresponds to the weights for each corresponding input\n",
    "# that results in the corresponding output\n",
    "ih_weights = [ [0.1, 0.2, -0.1], # hurt?\n",
    "            [-0.1, 0.1, 0.9],  # win?\n",
    "            [0.1, 0.4, 0.1] ] # sad?\n",
    "\n",
    "# weights for hidden layer to output layer\n",
    "hp_weights = [ [0.3, 1.1, -0.3], # hurt?\n",
    "               [0.1, 0.2, 0.0], # win?\n",
    "               [0.0, 1.3, 0.1] ] # sad?\n",
    "\n",
    "# stores weights between layers as a list of matrices\n",
    "weights = [ih_weights, hp_weights]\n",
    "\n",
    "# input \"dataset\"\n",
    "toes = [8.5, 9.5, 9.9, 9.0]\n",
    "wlrec = [0.65, 0.8, 0.8, 0.9]\n",
    "nfans = [1.2, 1.3, 0.5, 1.0]\n",
    "\n",
    "obs = 0\n",
    "input = [toes[obs], wlrec[obs], nfans[obs]]\n",
    "\n",
    "\n",
    "\n",
    "print(neural_network(input, weights))"
   ]
  }
 ],
 "metadata": {
  "kernelspec": {
   "display_name": ".venv",
   "language": "python",
   "name": "python3"
  },
  "language_info": {
   "codemirror_mode": {
    "name": "ipython",
    "version": 3
   },
   "file_extension": ".py",
   "mimetype": "text/x-python",
   "name": "python",
   "nbconvert_exporter": "python",
   "pygments_lexer": "ipython3",
   "version": "3.10.8"
  }
 },
 "nbformat": 4,
 "nbformat_minor": 2
}
